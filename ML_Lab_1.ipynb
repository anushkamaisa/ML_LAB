{
  "nbformat": 4,
  "nbformat_minor": 0,
  "metadata": {
    "colab": {
      "provenance": []
    },
    "kernelspec": {
      "name": "python3",
      "display_name": "Python 3"
    },
    "language_info": {
      "name": "python"
    }
  },
  "cells": [
    {
      "cell_type": "code",
      "execution_count": 1,
      "metadata": {
        "colab": {
          "base_uri": "https://localhost:8080/"
        },
        "id": "Ut5h_D8OcuwM",
        "outputId": "ad681300-3843-42a3-d8ee-0c5100b2485f"
      },
      "outputs": [
        {
          "output_type": "stream",
          "name": "stdout",
          "text": [
            "a) EngAlph:\n",
            " 0     a\n",
            "1     b\n",
            "2     c\n",
            "3     d\n",
            "4     e\n",
            "5     f\n",
            "6     g\n",
            "7     h\n",
            "8     i\n",
            "9     j\n",
            "10    k\n",
            "11    l\n",
            "12    m\n",
            "13    n\n",
            "14    o\n",
            "15    p\n",
            "16    q\n",
            "17    r\n",
            "18    s\n",
            "19    t\n",
            "20    u\n",
            "21    v\n",
            "22    w\n",
            "23    x\n",
            "24    y\n",
            "25    z\n",
            "dtype: object\n"
          ]
        }
      ],
      "source": [
        "import pandas as pd\n",
        "import numpy as np\n",
        "import string\n",
        "\n",
        "# a) EngAlph Series with alphabets\n",
        "EngAlph = pd.Series(list(string.ascii_lowercase))\n",
        "print(\"a) EngAlph:\\n\", EngAlph)\n"
      ]
    },
    {
      "cell_type": "code",
      "source": [
        "Vowels = pd.Series([0, 0, 0, 0, 0], index=['a', 'e', 'i', 'o', 'u'])\n",
        "print(\"\\nb) Vowels:\\n\", Vowels)\n",
        "print(\"Is Vowels empty?:\", Vowels.empty)"
      ],
      "metadata": {
        "colab": {
          "base_uri": "https://localhost:8080/"
        },
        "id": "SSM78KDcdF8b",
        "outputId": "26811ce4-35fb-4d65-a0e9-273dc674b459"
      },
      "execution_count": 2,
      "outputs": [
        {
          "output_type": "stream",
          "name": "stdout",
          "text": [
            "\n",
            "b) Vowels:\n",
            " a    0\n",
            "e    0\n",
            "i    0\n",
            "o    0\n",
            "u    0\n",
            "dtype: int64\n",
            "Is Vowels empty?: False\n"
          ]
        }
      ]
    },
    {
      "cell_type": "code",
      "source": [
        "friends_dict = {'Alice': 101, 'Bob': 102, 'Charlie': 103, 'David': 104, 'Eva': 105}\n",
        "Friends = pd.Series(friends_dict)\n",
        "print(\"\\nc) Friends:\\n\", Friends)\n"
      ],
      "metadata": {
        "colab": {
          "base_uri": "https://localhost:8080/"
        },
        "id": "8nPtGFuVdIC2",
        "outputId": "6cb6e74b-075e-4fd8-8cc2-7722866a9a9b"
      },
      "execution_count": 3,
      "outputs": [
        {
          "output_type": "stream",
          "name": "stdout",
          "text": [
            "\n",
            "c) Friends:\n",
            " Alice      101\n",
            "Bob        102\n",
            "Charlie    103\n",
            "David      104\n",
            "Eva        105\n",
            "dtype: int64\n"
          ]
        }
      ]
    },
    {
      "cell_type": "code",
      "source": [
        "MTseries = pd.Series(dtype='float64')\n",
        "print(\"\\nd) MTseries:\\n\", MTseries)\n",
        "print(\"Is MTseries empty?:\", MTseries.empty)\n"
      ],
      "metadata": {
        "colab": {
          "base_uri": "https://localhost:8080/"
        },
        "id": "bqnMWyEVdRjc",
        "outputId": "6c7d991c-c2ee-4d00-d3f7-9e2e44ad7f33"
      },
      "execution_count": 4,
      "outputs": [
        {
          "output_type": "stream",
          "name": "stdout",
          "text": [
            "\n",
            "d) MTseries:\n",
            " Series([], dtype: float64)\n",
            "Is MTseries empty?: True\n"
          ]
        }
      ]
    },
    {
      "cell_type": "code",
      "source": [
        "# e) MonthDays from numpy array\n",
        "days_array = np.array([31,28,31,30,31,30,31,31,30,31,30,31])\n",
        "MonthDays = pd.Series(days_array, index=range(1, 13))\n",
        "print(\"\\ne) MonthDays:\\n\", MonthDays)"
      ],
      "metadata": {
        "colab": {
          "base_uri": "https://localhost:8080/"
        },
        "id": "Rk0ROfTIdWxD",
        "outputId": "ccc77583-b170-4acd-dc84-666af3450226"
      },
      "execution_count": 5,
      "outputs": [
        {
          "output_type": "stream",
          "name": "stdout",
          "text": [
            "\n",
            "e) MonthDays:\n",
            " 1     31\n",
            "2     28\n",
            "3     31\n",
            "4     30\n",
            "5     31\n",
            "6     30\n",
            "7     31\n",
            "8     31\n",
            "9     30\n",
            "10    31\n",
            "11    30\n",
            "12    31\n",
            "dtype: int64\n"
          ]
        }
      ]
    },
    {
      "cell_type": "code",
      "source": [
        "Vowels[:] = 10\n",
        "print(\"a) Vowels:\\n\", Vowels)\n"
      ],
      "metadata": {
        "colab": {
          "base_uri": "https://localhost:8080/"
        },
        "id": "3Fft4ONWdbgI",
        "outputId": "85178f6b-7656-430b-d69c-0489c566f776"
      },
      "execution_count": 6,
      "outputs": [
        {
          "output_type": "stream",
          "name": "stdout",
          "text": [
            "a) Vowels:\n",
            " a    10\n",
            "e    10\n",
            "i    10\n",
            "o    10\n",
            "u    10\n",
            "dtype: int64\n"
          ]
        }
      ]
    },
    {
      "cell_type": "code",
      "source": [
        "Vowels = Vowels / 2\n",
        "print(\"\\nb) Vowels after division:\\n\", Vowels)\n"
      ],
      "metadata": {
        "colab": {
          "base_uri": "https://localhost:8080/"
        },
        "id": "EPN2WE1WdfkU",
        "outputId": "ed1b3bcd-42bd-4b04-b8d3-8cf5f21bfe4f"
      },
      "execution_count": 7,
      "outputs": [
        {
          "output_type": "stream",
          "name": "stdout",
          "text": [
            "\n",
            "b) Vowels after division:\n",
            " a    5.0\n",
            "e    5.0\n",
            "i    5.0\n",
            "o    5.0\n",
            "u    5.0\n",
            "dtype: float64\n"
          ]
        }
      ]
    },
    {
      "cell_type": "code",
      "source": [
        "\n",
        "# c) Create Vowels1 series\n",
        "Vowels1 = pd.Series([2, 5, 6, 3, 8], index=['a', 'e', 'i', 'o', 'u'])\n",
        "print(\"\\nc) Vowels1:\\n\", Vowels1)\n"
      ],
      "metadata": {
        "colab": {
          "base_uri": "https://localhost:8080/"
        },
        "id": "kopheoK8dk8B",
        "outputId": "bcabf85d-5eb3-4530-a7c5-2b3ac396f5b4"
      },
      "execution_count": 8,
      "outputs": [
        {
          "output_type": "stream",
          "name": "stdout",
          "text": [
            "\n",
            "c) Vowels1:\n",
            " a    2\n",
            "e    5\n",
            "i    6\n",
            "o    3\n",
            "u    8\n",
            "dtype: int64\n"
          ]
        }
      ]
    },
    {
      "cell_type": "code",
      "source": [
        "# d) Add Vowels and Vowels1\n",
        "Vowels3 = Vowels + Vowels1\n",
        "print(\"\\nd) Vowels3 (Sum):\\n\", Vowels3)\n"
      ],
      "metadata": {
        "colab": {
          "base_uri": "https://localhost:8080/"
        },
        "id": "a6-pPzMMdocI",
        "outputId": "4a3a1b1c-2971-43e7-ca6a-eaed2f73790d"
      },
      "execution_count": 9,
      "outputs": [
        {
          "output_type": "stream",
          "name": "stdout",
          "text": [
            "\n",
            "d) Vowels3 (Sum):\n",
            " a     7.0\n",
            "e    10.0\n",
            "i    11.0\n",
            "o     8.0\n",
            "u    13.0\n",
            "dtype: float64\n"
          ]
        }
      ]
    },
    {
      "cell_type": "code",
      "source": [
        "# e) Subtract, Multiply, Divide\n",
        "print(\"\\ne) Subtract:\\n\", Vowels1 - Vowels)\n",
        "print(\"Multiply:\\n\", Vowels1 * Vowels)\n",
        "print(\"Divide:\\n\", Vowels1 / Vowels)"
      ],
      "metadata": {
        "colab": {
          "base_uri": "https://localhost:8080/"
        },
        "id": "9MprNJjWdsjs",
        "outputId": "330f1edf-d3bf-4e4b-9ace-d8d08b74b61c"
      },
      "execution_count": 10,
      "outputs": [
        {
          "output_type": "stream",
          "name": "stdout",
          "text": [
            "\n",
            "e) Subtract:\n",
            " a   -3.0\n",
            "e    0.0\n",
            "i    1.0\n",
            "o   -2.0\n",
            "u    3.0\n",
            "dtype: float64\n",
            "Multiply:\n",
            " a    10.0\n",
            "e    25.0\n",
            "i    30.0\n",
            "o    15.0\n",
            "u    40.0\n",
            "dtype: float64\n",
            "Divide:\n",
            " a    0.4\n",
            "e    1.0\n",
            "i    1.2\n",
            "o    0.6\n",
            "u    1.6\n",
            "dtype: float64\n"
          ]
        }
      ]
    },
    {
      "cell_type": "code",
      "source": [
        "# f) Rename index of Vowels1\n",
        "Vowels1.index = ['A', 'E', 'I', 'O', 'U']\n",
        "print(\"\\nf) Renamed Vowels1:\\n\", Vowels1)\n"
      ],
      "metadata": {
        "colab": {
          "base_uri": "https://localhost:8080/"
        },
        "id": "R7DhpN9DdzNX",
        "outputId": "f751734d-8c7b-4e7f-e08f-3b6ccc707bd5"
      },
      "execution_count": 11,
      "outputs": [
        {
          "output_type": "stream",
          "name": "stdout",
          "text": [
            "\n",
            "f) Renamed Vowels1:\n",
            " A    2\n",
            "E    5\n",
            "I    6\n",
            "O    3\n",
            "U    8\n",
            "dtype: int64\n"
          ]
        }
      ]
    },
    {
      "cell_type": "code",
      "source": [
        "# a) Find dimensions, size, and values\n",
        "print(\"a) Properties:\")\n",
        "print(\"EngAlph - Dim:\", EngAlph.ndim, \", Size:\", EngAlph.size, \", Values:\", EngAlph.values)\n",
        "print(\"Vowels - Dim:\", Vowels.ndim, \", Size:\", Vowels.size, \", Values:\", Vowels.values)\n",
        "print(\"Friends - Dim:\", Friends.ndim, \", Size:\", Friends.size, \", Values:\", Friends.values)\n",
        "print(\"MTseries - Dim:\", MTseries.ndim, \", Size:\", MTseries.size, \", Values:\", MTseries.values)\n",
        "print(\"MonthDays - Dim:\", MonthDays.ndim, \", Size:\", MonthDays.size, \", Values:\", MonthDays.values)\n"
      ],
      "metadata": {
        "colab": {
          "base_uri": "https://localhost:8080/"
        },
        "id": "m-VvP-ZXd3xt",
        "outputId": "c316678f-68e8-465b-9895-4a6c4c86e951"
      },
      "execution_count": 12,
      "outputs": [
        {
          "output_type": "stream",
          "name": "stdout",
          "text": [
            "a) Properties:\n",
            "EngAlph - Dim: 1 , Size: 26 , Values: ['a' 'b' 'c' 'd' 'e' 'f' 'g' 'h' 'i' 'j' 'k' 'l' 'm' 'n' 'o' 'p' 'q' 'r'\n",
            " 's' 't' 'u' 'v' 'w' 'x' 'y' 'z']\n",
            "Vowels - Dim: 1 , Size: 5 , Values: [5. 5. 5. 5. 5.]\n",
            "Friends - Dim: 1 , Size: 5 , Values: [101 102 103 104 105]\n",
            "MTseries - Dim: 1 , Size: 0 , Values: []\n",
            "MonthDays - Dim: 1 , Size: 12 , Values: [31 28 31 30 31 30 31 31 30 31 30 31]\n"
          ]
        }
      ]
    },
    {
      "cell_type": "code",
      "source": [
        "# b) Rename MTseries\n",
        "SeriesEmpty = MTseries.rename(\"SeriesEmpty\")\n",
        "print(\"\\nb) Renamed MTseries as SeriesEmpty:\\n\", SeriesEmpty)\n",
        "\n"
      ],
      "metadata": {
        "colab": {
          "base_uri": "https://localhost:8080/"
        },
        "id": "qcvYlpq7d_SH",
        "outputId": "4dfd8a0f-d84b-4353-ca5a-c63792cf640f"
      },
      "execution_count": 13,
      "outputs": [
        {
          "output_type": "stream",
          "name": "stdout",
          "text": [
            "\n",
            "b) Renamed MTseries as SeriesEmpty:\n",
            " Series([], Name: SeriesEmpty, dtype: float64)\n"
          ]
        }
      ]
    },
    {
      "cell_type": "code",
      "source": [
        "# c) Rename index\n",
        "MonthDays.index.name = 'monthno'\n",
        "Friends.index.name = 'Fname'\n",
        "print(\"\\nc) Named MonthDays index as 'monthno':\\n\", MonthDays)\n",
        "print(\"Named Friends index as 'Fname':\\n\", Friends)"
      ],
      "metadata": {
        "colab": {
          "base_uri": "https://localhost:8080/"
        },
        "id": "CmnC2A-FeDjm",
        "outputId": "e5ea34d8-0900-4530-c2f5-d8f1f17e8e68"
      },
      "execution_count": 14,
      "outputs": [
        {
          "output_type": "stream",
          "name": "stdout",
          "text": [
            "\n",
            "c) Named MonthDays index as 'monthno':\n",
            " monthno\n",
            "1     31\n",
            "2     28\n",
            "3     31\n",
            "4     30\n",
            "5     31\n",
            "6     30\n",
            "7     31\n",
            "8     31\n",
            "9     30\n",
            "10    31\n",
            "11    30\n",
            "12    31\n",
            "dtype: int64\n",
            "Named Friends index as 'Fname':\n",
            " Fname\n",
            "Alice      101\n",
            "Bob        102\n",
            "Charlie    103\n",
            "David      104\n",
            "Eva        105\n",
            "dtype: int64\n"
          ]
        }
      ]
    },
    {
      "cell_type": "code",
      "source": [
        "import pandas as pd\n",
        "import numpy as np\n",
        "import string\n",
        "\n",
        "# a) EngAlph: 26 English letters\n",
        "EngAlph = pd.Series(list(string.ascii_lowercase))\n",
        "print(\"a) EngAlph:\\n\", EngAlph)"
      ],
      "metadata": {
        "colab": {
          "base_uri": "https://localhost:8080/"
        },
        "id": "7H-Bj8lqebmn",
        "outputId": "f9cea934-b5a4-4366-a916-d43f8bcb4464"
      },
      "execution_count": 15,
      "outputs": [
        {
          "output_type": "stream",
          "name": "stdout",
          "text": [
            "a) EngAlph:\n",
            " 0     a\n",
            "1     b\n",
            "2     c\n",
            "3     d\n",
            "4     e\n",
            "5     f\n",
            "6     g\n",
            "7     h\n",
            "8     i\n",
            "9     j\n",
            "10    k\n",
            "11    l\n",
            "12    m\n",
            "13    n\n",
            "14    o\n",
            "15    p\n",
            "16    q\n",
            "17    r\n",
            "18    s\n",
            "19    t\n",
            "20    u\n",
            "21    v\n",
            "22    w\n",
            "23    x\n",
            "24    y\n",
            "25    z\n",
            "dtype: object\n"
          ]
        }
      ]
    },
    {
      "cell_type": "code",
      "source": [
        "# b) Vowels\n",
        "Vowels = pd.Series([0, 0, 0, 0, 0], index=['a', 'e', 'i', 'o', 'u'])\n",
        "print(\"\\nb) Vowels:\\n\", Vowels)\n",
        "print(\"Is Vowels empty? \", Vowels.empty)\n"
      ],
      "metadata": {
        "colab": {
          "base_uri": "https://localhost:8080/"
        },
        "id": "LD1JFrZqegg9",
        "outputId": "b75e28ff-72b5-4425-f291-e9bcdf1486bd"
      },
      "execution_count": 16,
      "outputs": [
        {
          "output_type": "stream",
          "name": "stdout",
          "text": [
            "\n",
            "b) Vowels:\n",
            " a    0\n",
            "e    0\n",
            "i    0\n",
            "o    0\n",
            "u    0\n",
            "dtype: int64\n",
            "Is Vowels empty?  False\n"
          ]
        }
      ]
    },
    {
      "cell_type": "code",
      "source": [
        "# c) Friends from dictionary\n",
        "friends_dict = {'Alice': 101, 'Bob': 102, 'Charlie': 103, 'David': 104, 'Eva': 105}\n",
        "Friends = pd.Series(friends_dict)\n",
        "print(\"\\nc) Friends:\\n\", Friends)\n"
      ],
      "metadata": {
        "colab": {
          "base_uri": "https://localhost:8080/"
        },
        "id": "aoFLCOdBeoNL",
        "outputId": "3df40e79-cf50-4a7c-8c81-af584c3619a7"
      },
      "execution_count": 17,
      "outputs": [
        {
          "output_type": "stream",
          "name": "stdout",
          "text": [
            "\n",
            "c) Friends:\n",
            " Alice      101\n",
            "Bob        102\n",
            "Charlie    103\n",
            "David      104\n",
            "Eva        105\n",
            "dtype: int64\n"
          ]
        }
      ]
    },
    {
      "cell_type": "code",
      "source": [
        "# d) MTseries: Empty Series\n",
        "MTseries = pd.Series(dtype='float64')\n",
        "print(\"\\nd) MTseries:\\n\", MTseries)\n",
        "print(\"Is MTseries empty? \", MTseries.empty)"
      ],
      "metadata": {
        "colab": {
          "base_uri": "https://localhost:8080/"
        },
        "id": "RZmF-YO3ewGy",
        "outputId": "3e37fd60-2667-476f-b5b3-8cdc1c61a2cb"
      },
      "execution_count": 18,
      "outputs": [
        {
          "output_type": "stream",
          "name": "stdout",
          "text": [
            "\n",
            "d) MTseries:\n",
            " Series([], dtype: float64)\n",
            "Is MTseries empty?  True\n"
          ]
        }
      ]
    },
    {
      "cell_type": "code",
      "source": [
        "# e) MonthDays\n",
        "days_array = np.array([31,28,31,30,31,30,31,31,30,31,30,31])\n",
        "MonthDays = pd.Series(days_array, index=range(1,13))\n",
        "print(\"\\ne) MonthDays:\\n\", MonthDays)\n"
      ],
      "metadata": {
        "colab": {
          "base_uri": "https://localhost:8080/"
        },
        "id": "3fEYjNAoewj-",
        "outputId": "0f3fd91f-93ab-4cd2-dbb8-8263419d34fc"
      },
      "execution_count": 19,
      "outputs": [
        {
          "output_type": "stream",
          "name": "stdout",
          "text": [
            "\n",
            "e) MonthDays:\n",
            " 1     31\n",
            "2     28\n",
            "3     31\n",
            "4     30\n",
            "5     31\n",
            "6     30\n",
            "7     31\n",
            "8     31\n",
            "9     30\n",
            "10    31\n",
            "11    30\n",
            "12    31\n",
            "dtype: int64\n"
          ]
        }
      ]
    },
    {
      "cell_type": "code",
      "source": [
        "Vowels[:] = 10\n",
        "print(\"\\na) Vowels set to 10:\\n\", Vowels)\n"
      ],
      "metadata": {
        "colab": {
          "base_uri": "https://localhost:8080/"
        },
        "id": "w-VtsXGKe6Kj",
        "outputId": "8dfc7c49-d06e-4e4a-f82a-277279350de3"
      },
      "execution_count": 20,
      "outputs": [
        {
          "output_type": "stream",
          "name": "stdout",
          "text": [
            "\n",
            "a) Vowels set to 10:\n",
            " a    10\n",
            "e    10\n",
            "i    10\n",
            "o    10\n",
            "u    10\n",
            "dtype: int64\n"
          ]
        }
      ]
    },
    {
      "cell_type": "code",
      "source": [
        "# b) Divide all by 2\n",
        "Vowels = Vowels / 2\n",
        "print(\"\\nb) Vowels divided by 2:\\n\", Vowels)\n"
      ],
      "metadata": {
        "colab": {
          "base_uri": "https://localhost:8080/"
        },
        "id": "o7_p056-e9oy",
        "outputId": "52b1f13c-7bda-4c90-eb66-7fc483f0dcd2"
      },
      "execution_count": 21,
      "outputs": [
        {
          "output_type": "stream",
          "name": "stdout",
          "text": [
            "\n",
            "b) Vowels divided by 2:\n",
            " a    5.0\n",
            "e    5.0\n",
            "i    5.0\n",
            "o    5.0\n",
            "u    5.0\n",
            "dtype: float64\n"
          ]
        }
      ]
    },
    {
      "cell_type": "code",
      "source": [
        "# c) Vowels1\n",
        "Vowels1 = pd.Series([2, 5, 6, 3, 8], index=['a', 'e', 'i', 'o', 'u'])\n",
        "print(\"\\nc) Vowels1:\\n\", Vowels1)\n"
      ],
      "metadata": {
        "colab": {
          "base_uri": "https://localhost:8080/"
        },
        "id": "IN9xRxQ1fB8t",
        "outputId": "e8c28b34-bfac-4561-ec4d-e44464733721"
      },
      "execution_count": 22,
      "outputs": [
        {
          "output_type": "stream",
          "name": "stdout",
          "text": [
            "\n",
            "c) Vowels1:\n",
            " a    2\n",
            "e    5\n",
            "i    6\n",
            "o    3\n",
            "u    8\n",
            "dtype: int64\n"
          ]
        }
      ]
    },
    {
      "cell_type": "code",
      "source": [
        "# d) Add Vowels + Vowels1\n",
        "Vowels3 = Vowels + Vowels1\n",
        "print(\"\\nd) Vowels3 (Vowels + Vowels1):\\n\", Vowels3)\n"
      ],
      "metadata": {
        "colab": {
          "base_uri": "https://localhost:8080/"
        },
        "id": "xxSgg9_zfFeC",
        "outputId": "ff102777-2d60-434c-b9ac-c3dfea925ec5"
      },
      "execution_count": 23,
      "outputs": [
        {
          "output_type": "stream",
          "name": "stdout",
          "text": [
            "\n",
            "d) Vowels3 (Vowels + Vowels1):\n",
            " a     7.0\n",
            "e    10.0\n",
            "i    11.0\n",
            "o     8.0\n",
            "u    13.0\n",
            "dtype: float64\n"
          ]
        }
      ]
    },
    {
      "cell_type": "code",
      "source": [
        "# e) Subtract, Multiply, Divide\n",
        "print(\"\\ne) Vowels1 - Vowels:\\n\", Vowels1 - Vowels)\n",
        "print(\"   Vowels1 * Vowels:\\n\", Vowels1 * Vowels)\n",
        "print(\"   Vowels1 / Vowels:\\n\", Vowels1 / Vowels)"
      ],
      "metadata": {
        "colab": {
          "base_uri": "https://localhost:8080/"
        },
        "id": "R4iU3d1YfJS1",
        "outputId": "4945af90-25ae-45af-9769-d6b18ba465e5"
      },
      "execution_count": 24,
      "outputs": [
        {
          "output_type": "stream",
          "name": "stdout",
          "text": [
            "\n",
            "e) Vowels1 - Vowels:\n",
            " a   -3.0\n",
            "e    0.0\n",
            "i    1.0\n",
            "o   -2.0\n",
            "u    3.0\n",
            "dtype: float64\n",
            "   Vowels1 * Vowels:\n",
            " a    10.0\n",
            "e    25.0\n",
            "i    30.0\n",
            "o    15.0\n",
            "u    40.0\n",
            "dtype: float64\n",
            "   Vowels1 / Vowels:\n",
            " a    0.4\n",
            "e    1.0\n",
            "i    1.2\n",
            "o    0.6\n",
            "u    1.6\n",
            "dtype: float64\n"
          ]
        }
      ]
    },
    {
      "cell_type": "code",
      "source": [
        "# f) Rename labels of Vowels1\n",
        "Vowels1.index = ['A', 'E', 'I', 'O', 'U']\n",
        "print(\"\\nf) Vowels1 with new labels:\\n\", Vowels1)\n"
      ],
      "metadata": {
        "colab": {
          "base_uri": "https://localhost:8080/"
        },
        "id": "KXBEdaNTfN_i",
        "outputId": "1d52c40b-3e9d-4dac-c087-672f1f1bc8f6"
      },
      "execution_count": 25,
      "outputs": [
        {
          "output_type": "stream",
          "name": "stdout",
          "text": [
            "\n",
            "f) Vowels1 with new labels:\n",
            " A    2\n",
            "E    5\n",
            "I    6\n",
            "O    3\n",
            "U    8\n",
            "dtype: int64\n"
          ]
        }
      ]
    },
    {
      "cell_type": "code",
      "source": [
        "print(\"a) Properties:\")\n",
        "print(\"EngAlph - Dim:\", EngAlph.ndim, \", Size:\", EngAlph.size, \", Values:\", EngAlph.values)\n",
        "print(\"Vowels - Dim:\", Vowels.ndim, \", Size:\", Vowels.size, \", Values:\", Vowels.values)\n",
        "print(\"Friends - Dim:\", Friends.ndim, \", Size:\", Friends.size, \", Values:\", Friends.values)\n",
        "print(\"MTseries - Dim:\", MTseries.ndim, \", Size:\", MTseries.size, \", Values:\", MTseries.values)\n",
        "print(\"MonthDays - Dim:\", MonthDays.ndim, \", Size:\", MonthDays.size, \", Values:\", MonthDays.values)\n"
      ],
      "metadata": {
        "colab": {
          "base_uri": "https://localhost:8080/"
        },
        "id": "X7c7EwFOfUho",
        "outputId": "29fda7c9-c765-42b5-9933-a0d3fe40945a"
      },
      "execution_count": 26,
      "outputs": [
        {
          "output_type": "stream",
          "name": "stdout",
          "text": [
            "a) Properties:\n",
            "EngAlph - Dim: 1 , Size: 26 , Values: ['a' 'b' 'c' 'd' 'e' 'f' 'g' 'h' 'i' 'j' 'k' 'l' 'm' 'n' 'o' 'p' 'q' 'r'\n",
            " 's' 't' 'u' 'v' 'w' 'x' 'y' 'z']\n",
            "Vowels - Dim: 1 , Size: 5 , Values: [5. 5. 5. 5. 5.]\n",
            "Friends - Dim: 1 , Size: 5 , Values: [101 102 103 104 105]\n",
            "MTseries - Dim: 1 , Size: 0 , Values: []\n",
            "MonthDays - Dim: 1 , Size: 12 , Values: [31 28 31 30 31 30 31 31 30 31 30 31]\n"
          ]
        }
      ]
    },
    {
      "cell_type": "code",
      "source": [
        "# b) Rename MTseries to SeriesEmpty\n",
        "SeriesEmpty = MTseries.rename(\"SeriesEmpty\")\n",
        "print(\"\\nb) Renamed MTseries:\\n\", SeriesEmpty)"
      ],
      "metadata": {
        "colab": {
          "base_uri": "https://localhost:8080/"
        },
        "id": "PAe1uUtrfZ03",
        "outputId": "9045ea02-8504-48e6-a1c6-d3b24cf90197"
      },
      "execution_count": 27,
      "outputs": [
        {
          "output_type": "stream",
          "name": "stdout",
          "text": [
            "\n",
            "b) Renamed MTseries:\n",
            " Series([], Name: SeriesEmpty, dtype: float64)\n"
          ]
        }
      ]
    },
    {
      "cell_type": "code",
      "source": [
        "# c) Index names\n",
        "MonthDays.index.name = 'monthno'\n",
        "Friends.index.name = 'Fname'\n",
        "print(\"\\nc) MonthDays with index name:\\n\", MonthDays)\n",
        "print(\"Friends with index name:\\n\", Friends)"
      ],
      "metadata": {
        "colab": {
          "base_uri": "https://localhost:8080/"
        },
        "id": "nr5yTVLrffyu",
        "outputId": "af31469c-09d0-45f4-ffb1-058d4a996923"
      },
      "execution_count": 28,
      "outputs": [
        {
          "output_type": "stream",
          "name": "stdout",
          "text": [
            "\n",
            "c) MonthDays with index name:\n",
            " monthno\n",
            "1     31\n",
            "2     28\n",
            "3     31\n",
            "4     30\n",
            "5     31\n",
            "6     30\n",
            "7     31\n",
            "8     31\n",
            "9     30\n",
            "10    31\n",
            "11    30\n",
            "12    31\n",
            "dtype: int64\n",
            "Friends with index name:\n",
            " Fname\n",
            "Alice      101\n",
            "Bob        102\n",
            "Charlie    103\n",
            "David      104\n",
            "Eva        105\n",
            "dtype: int64\n"
          ]
        }
      ]
    },
    {
      "cell_type": "code",
      "source": [
        "print(\"d) 3rd and 2nd value from Friends:\\n\", Friends.iloc[[2, 1]])"
      ],
      "metadata": {
        "colab": {
          "base_uri": "https://localhost:8080/"
        },
        "id": "Jq7SM_bofmoQ",
        "outputId": "46726f32-d026-4da5-d3c4-3df012880c3f"
      },
      "execution_count": 29,
      "outputs": [
        {
          "output_type": "stream",
          "name": "stdout",
          "text": [
            "d) 3rd and 2nd value from Friends:\n",
            " Fname\n",
            "Charlie    103\n",
            "Bob        102\n",
            "dtype: int64\n"
          ]
        }
      ]
    },
    {
      "cell_type": "code",
      "source": [
        "print(\"e) Alphabets from 'e' to 'p':\\n\", EngAlph[4:16])"
      ],
      "metadata": {
        "colab": {
          "base_uri": "https://localhost:8080/"
        },
        "id": "F937ET8rfqbE",
        "outputId": "ac4b5e67-f1fe-4492-9e8a-dfd1196dc88b"
      },
      "execution_count": 30,
      "outputs": [
        {
          "output_type": "stream",
          "name": "stdout",
          "text": [
            "e) Alphabets from 'e' to 'p':\n",
            " 4     e\n",
            "5     f\n",
            "6     g\n",
            "7     h\n",
            "8     i\n",
            "9     j\n",
            "10    k\n",
            "11    l\n",
            "12    m\n",
            "13    n\n",
            "14    o\n",
            "15    p\n",
            "dtype: object\n"
          ]
        }
      ]
    },
    {
      "cell_type": "code",
      "source": [
        "print(\"f) First 10 values:\\n\", EngAlph.head(10))\n"
      ],
      "metadata": {
        "colab": {
          "base_uri": "https://localhost:8080/"
        },
        "id": "JTpqZ5sZfvln",
        "outputId": "c6cb28d7-615c-46d1-b7d2-354fdf19a98b"
      },
      "execution_count": 31,
      "outputs": [
        {
          "output_type": "stream",
          "name": "stdout",
          "text": [
            "f) First 10 values:\n",
            " 0    a\n",
            "1    b\n",
            "2    c\n",
            "3    d\n",
            "4    e\n",
            "5    f\n",
            "6    g\n",
            "7    h\n",
            "8    i\n",
            "9    j\n",
            "dtype: object\n"
          ]
        }
      ]
    },
    {
      "cell_type": "code",
      "source": [
        "print(\"g) Last 10 values:\\n\", EngAlph.tail(10))\n"
      ],
      "metadata": {
        "colab": {
          "base_uri": "https://localhost:8080/"
        },
        "id": "afb5Gzfyf1Sc",
        "outputId": "989b9266-fb8f-428c-dd1e-973781b144e7"
      },
      "execution_count": 32,
      "outputs": [
        {
          "output_type": "stream",
          "name": "stdout",
          "text": [
            "g) Last 10 values:\n",
            " 16    q\n",
            "17    r\n",
            "18    s\n",
            "19    t\n",
            "20    u\n",
            "21    v\n",
            "22    w\n",
            "23    x\n",
            "24    y\n",
            "25    z\n",
            "dtype: object\n"
          ]
        }
      ]
    },
    {
      "cell_type": "code",
      "source": [
        "print(\"h) MTseries:\\n\", MTseries)\n"
      ],
      "metadata": {
        "colab": {
          "base_uri": "https://localhost:8080/"
        },
        "id": "WEpDPXAgf4w2",
        "outputId": "16e5e515-7e18-404b-bfcd-ac6012e2ce29"
      },
      "execution_count": 33,
      "outputs": [
        {
          "output_type": "stream",
          "name": "stdout",
          "text": [
            "h) MTseries:\n",
            " Series([], dtype: float64)\n"
          ]
        }
      ]
    },
    {
      "cell_type": "code",
      "source": [
        "print(\"8a) Months 3 to 7:\\n\", MonthDays.loc[3:7])\n"
      ],
      "metadata": {
        "colab": {
          "base_uri": "https://localhost:8080/"
        },
        "id": "DbQaRev8f8lf",
        "outputId": "1e38c0e2-2e7e-4acb-af1c-94c7a56a7f02"
      },
      "execution_count": 34,
      "outputs": [
        {
          "output_type": "stream",
          "name": "stdout",
          "text": [
            "8a) Months 3 to 7:\n",
            " monthno\n",
            "3    31\n",
            "4    30\n",
            "5    31\n",
            "6    30\n",
            "7    31\n",
            "dtype: int64\n"
          ]
        }
      ]
    },
    {
      "cell_type": "code",
      "source": [
        "print(\"8b) MonthDays in reverse:\\n\", MonthDays[::-1])\n"
      ],
      "metadata": {
        "colab": {
          "base_uri": "https://localhost:8080/"
        },
        "id": "mUrY__IXgAnV",
        "outputId": "08fff581-4010-4054-c4e4-70d49b7b8fcd"
      },
      "execution_count": 35,
      "outputs": [
        {
          "output_type": "stream",
          "name": "stdout",
          "text": [
            "8b) MonthDays in reverse:\n",
            " monthno\n",
            "12    31\n",
            "11    30\n",
            "10    31\n",
            "9     30\n",
            "8     31\n",
            "7     31\n",
            "6     30\n",
            "5     31\n",
            "4     30\n",
            "3     31\n",
            "2     28\n",
            "1     31\n",
            "dtype: int64\n"
          ]
        }
      ]
    },
    {
      "cell_type": "code",
      "source": [
        "import pandas as pd\n",
        "\n",
        "data = {\n",
        "    '2014': [100.5, 150.8, 200.9, 30000, 40000],\n",
        "    '2015': [12000, 18000, 22000, 30000, 45000],\n",
        "    '2016': [20000, 50000, 70000, 100000, 125000],\n",
        "    '2017': [50000, 60000, 70000, 80000, 90000]\n",
        "}\n",
        "\n",
        "index_labels = ['Madhu', 'Kusum', 'Kinshuk', 'Ankit', 'Shruti']\n",
        "\n",
        "Sales = pd.DataFrame(data, index=index_labels)\n",
        "print(\"Sales DataFrame:\\n\", Sales)\n"
      ],
      "metadata": {
        "colab": {
          "base_uri": "https://localhost:8080/"
        },
        "id": "lPUIE5UhgGkc",
        "outputId": "c593a394-67cf-4709-e918-29650519c394"
      },
      "execution_count": 36,
      "outputs": [
        {
          "output_type": "stream",
          "name": "stdout",
          "text": [
            "Sales DataFrame:\n",
            "             2014   2015    2016   2017\n",
            "Madhu      100.5  12000   20000  50000\n",
            "Kusum      150.8  18000   50000  60000\n",
            "Kinshuk    200.9  22000   70000  70000\n",
            "Ankit    30000.0  30000  100000  80000\n",
            "Shruti   40000.0  45000  125000  90000\n"
          ]
        }
      ]
    },
    {
      "cell_type": "code",
      "source": [
        "print(\"10a) Row labels:\\n\", Sales.index)\n"
      ],
      "metadata": {
        "colab": {
          "base_uri": "https://localhost:8080/"
        },
        "id": "kac1gFbagNfG",
        "outputId": "3b041f7a-d186-4820-ea81-e96af0650e06"
      },
      "execution_count": 37,
      "outputs": [
        {
          "output_type": "stream",
          "name": "stdout",
          "text": [
            "10a) Row labels:\n",
            " Index(['Madhu', 'Kusum', 'Kinshuk', 'Ankit', 'Shruti'], dtype='object')\n"
          ]
        }
      ]
    },
    {
      "cell_type": "code",
      "source": [
        "print(\"10b) Column labels:\\n\", Sales.columns)\n"
      ],
      "metadata": {
        "colab": {
          "base_uri": "https://localhost:8080/"
        },
        "id": "fheBkTIXgSJA",
        "outputId": "a00c6347-6343-4947-b4b2-d8e067ad498f"
      },
      "execution_count": 38,
      "outputs": [
        {
          "output_type": "stream",
          "name": "stdout",
          "text": [
            "10b) Column labels:\n",
            " Index(['2014', '2015', '2016', '2017'], dtype='object')\n"
          ]
        }
      ]
    },
    {
      "cell_type": "code",
      "source": [
        "print(\"10c) Data types:\\n\", Sales.dtypes)\n"
      ],
      "metadata": {
        "colab": {
          "base_uri": "https://localhost:8080/"
        },
        "id": "8CymxAWAgU_w",
        "outputId": "b4f84c4e-a247-46af-aa3f-90bfacb557b4"
      },
      "execution_count": 39,
      "outputs": [
        {
          "output_type": "stream",
          "name": "stdout",
          "text": [
            "10c) Data types:\n",
            " 2014    float64\n",
            "2015      int64\n",
            "2016      int64\n",
            "2017      int64\n",
            "dtype: object\n"
          ]
        }
      ]
    },
    {
      "cell_type": "code",
      "source": [
        "print(\"10c) Data types:\\n\", Sales.dtypes)\n"
      ],
      "metadata": {
        "colab": {
          "base_uri": "https://localhost:8080/"
        },
        "id": "5YPYoWUDgYP8",
        "outputId": "756d88e6-71a6-4de8-fa74-1a55fdf4d906"
      },
      "execution_count": 40,
      "outputs": [
        {
          "output_type": "stream",
          "name": "stdout",
          "text": [
            "10c) Data types:\n",
            " 2014    float64\n",
            "2015      int64\n",
            "2016      int64\n",
            "2017      int64\n",
            "dtype: object\n"
          ]
        }
      ]
    },
    {
      "cell_type": "code",
      "source": [
        "print(\"10d) Dimensions:\", Sales.ndim)\n",
        "print(\"Shape:\", Sales.shape)\n",
        "print(\"Size:\", Sales.size)\n",
        "print(\"Values:\\n\", Sales.values)\n"
      ],
      "metadata": {
        "colab": {
          "base_uri": "https://localhost:8080/"
        },
        "id": "Frl6-gD2gfEb",
        "outputId": "59ca0011-e2c0-4e76-e134-b7083cbd7df3"
      },
      "execution_count": 41,
      "outputs": [
        {
          "output_type": "stream",
          "name": "stdout",
          "text": [
            "10d) Dimensions: 2\n",
            "Shape: (5, 4)\n",
            "Size: 20\n",
            "Values:\n",
            " [[1.005e+02 1.200e+04 2.000e+04 5.000e+04]\n",
            " [1.508e+02 1.800e+04 5.000e+04 6.000e+04]\n",
            " [2.009e+02 2.200e+04 7.000e+04 7.000e+04]\n",
            " [3.000e+04 3.000e+04 1.000e+05 8.000e+04]\n",
            " [4.000e+04 4.500e+04 1.250e+05 9.000e+04]]\n"
          ]
        }
      ]
    },
    {
      "cell_type": "code",
      "source": [
        "print(\"10e) Last 2 rows:\\n\", Sales.tail(2))\n"
      ],
      "metadata": {
        "colab": {
          "base_uri": "https://localhost:8080/"
        },
        "id": "lizPCfKqgjyn",
        "outputId": "30a56802-96ff-49d8-8034-873699ac49d4"
      },
      "execution_count": 42,
      "outputs": [
        {
          "output_type": "stream",
          "name": "stdout",
          "text": [
            "10e) Last 2 rows:\n",
            "            2014   2015    2016   2017\n",
            "Ankit   30000.0  30000  100000  80000\n",
            "Shruti  40000.0  45000  125000  90000\n"
          ]
        }
      ]
    },
    {
      "cell_type": "code",
      "source": [
        "print(\"10f) First 2 columns:\\n\", Sales.iloc[:, 0:2])\n"
      ],
      "metadata": {
        "colab": {
          "base_uri": "https://localhost:8080/"
        },
        "id": "fdAhOrf4gnPi",
        "outputId": "d060630b-a597-4cb0-87d3-558881c432a4"
      },
      "execution_count": 43,
      "outputs": [
        {
          "output_type": "stream",
          "name": "stdout",
          "text": [
            "10f) First 2 columns:\n",
            "             2014   2015\n",
            "Madhu      100.5  12000\n",
            "Kusum      150.8  18000\n",
            "Kinshuk    200.9  22000\n",
            "Ankit    30000.0  30000\n",
            "Shruti   40000.0  45000\n"
          ]
        }
      ]
    },
    {
      "cell_type": "code",
      "source": [
        "sales2_data = {\n",
        "    '2018': {\n",
        "        'Madhu': 160000,\n",
        "        'Kusum': 110000,\n",
        "        'Kinshuk': 500000,\n",
        "        'Ankit': 340000,\n",
        "        'Shruti': 900000\n",
        "    }\n",
        "}\n",
        "\n",
        "Sales2 = pd.DataFrame(sales2_data)\n",
        "print(\"10g) Sales2 DataFrame:\\n\", Sales2)\n"
      ],
      "metadata": {
        "colab": {
          "base_uri": "https://localhost:8080/"
        },
        "id": "A7A-bTK3gvih",
        "outputId": "26c4c0d2-dd97-4993-ec47-b1a27dc0874a"
      },
      "execution_count": 44,
      "outputs": [
        {
          "output_type": "stream",
          "name": "stdout",
          "text": [
            "10g) Sales2 DataFrame:\n",
            "            2018\n",
            "Madhu    160000\n",
            "Kusum    110000\n",
            "Kinshuk  500000\n",
            "Ankit    340000\n",
            "Shruti   900000\n"
          ]
        }
      ]
    },
    {
      "cell_type": "code",
      "source": [
        "print(\"10h) Is Sales2 empty?:\", Sales2.empty)\n"
      ],
      "metadata": {
        "colab": {
          "base_uri": "https://localhost:8080/"
        },
        "id": "hJP5vLxfg0Se",
        "outputId": "2daa8f73-64df-4e62-a290-3268afa6ccfa"
      },
      "execution_count": 45,
      "outputs": [
        {
          "output_type": "stream",
          "name": "stdout",
          "text": [
            "10h) Is Sales2 empty?: False\n"
          ]
        }
      ]
    },
    {
      "cell_type": "code",
      "source": [
        "import pandas as pd\n",
        "\n",
        "# Re-creating the Sales DataFrame\n",
        "sales_data = {\n",
        "    '2014': [100.5, 150.8, 200.9, 30000, 40000],\n",
        "    '2015': [12000, 18000, 22000, 30000, 45000],\n",
        "    '2016': [20000, 50000, 70000, 100000, 125000],\n",
        "    '2017': [50000, 60000, 70000, 80000, 90000]\n",
        "}\n",
        "sales_index = ['Madhu', 'Kusum', 'Kinshuk', 'Ankit', 'Shruti']\n",
        "Sales = pd.DataFrame(sales_data, index=sales_index)\n",
        "\n",
        "# Sales2\n",
        "sales2_data = {\n",
        "    '2018': {\n",
        "        'Madhu': 160000,\n",
        "        'Kusum': 110000,\n",
        "        'Kinshuk': 500000,\n",
        "        'Ankit': 340000,\n",
        "        'Shruti': 900000\n",
        "    }\n",
        "}\n",
        "Sales2 = pd.DataFrame(sales2_data)\n"
      ],
      "metadata": {
        "id": "GZCdp7Plg7fH"
      },
      "execution_count": 47,
      "outputs": []
    },
    {
      "cell_type": "code",
      "source": [
        "Sales = pd.concat([Sales, Sales2], axis=1)\n",
        "print(\"a) Appended Sales2 to Sales:\\n\", Sales)\n"
      ],
      "metadata": {
        "colab": {
          "base_uri": "https://localhost:8080/"
        },
        "id": "h_ynjIQXhACn",
        "outputId": "ed21fffb-0aa1-48de-dcf9-d9950114b709"
      },
      "execution_count": 48,
      "outputs": [
        {
          "output_type": "stream",
          "name": "stdout",
          "text": [
            "a) Appended Sales2 to Sales:\n",
            "             2014   2015    2016   2017    2018\n",
            "Madhu      100.5  12000   20000  50000  160000\n",
            "Kusum      150.8  18000   50000  60000  110000\n",
            "Kinshuk    200.9  22000   70000  70000  500000\n",
            "Ankit    30000.0  30000  100000  80000  340000\n",
            "Shruti   40000.0  45000  125000  90000  900000\n"
          ]
        }
      ]
    },
    {
      "cell_type": "code",
      "source": [
        "Sales = Sales.T\n",
        "print(\"b) Transposed Sales:\\n\", Sales)\n"
      ],
      "metadata": {
        "colab": {
          "base_uri": "https://localhost:8080/"
        },
        "id": "DJroKHkchDKj",
        "outputId": "55df97b9-3eb7-4f7a-88a4-b170743a6e8b"
      },
      "execution_count": 49,
      "outputs": [
        {
          "output_type": "stream",
          "name": "stdout",
          "text": [
            "b) Transposed Sales:\n",
            "          Madhu     Kusum   Kinshuk     Ankit    Shruti\n",
            "2014     100.5     150.8     200.9   30000.0   40000.0\n",
            "2015   12000.0   18000.0   22000.0   30000.0   45000.0\n",
            "2016   20000.0   50000.0   70000.0  100000.0  125000.0\n",
            "2017   50000.0   60000.0   70000.0   80000.0   90000.0\n",
            "2018  160000.0  110000.0  500000.0  340000.0  900000.0\n"
          ]
        }
      ]
    },
    {
      "cell_type": "code",
      "source": [
        "print(\"c) Sales in 2017:\\n\", Sales.loc['2017'])\n"
      ],
      "metadata": {
        "colab": {
          "base_uri": "https://localhost:8080/"
        },
        "id": "icHB6ShLhG6q",
        "outputId": "42f950e4-1966-4db0-eb4a-0c61ac46e737"
      },
      "execution_count": 50,
      "outputs": [
        {
          "output_type": "stream",
          "name": "stdout",
          "text": [
            "c) Sales in 2017:\n",
            " Madhu      50000.0\n",
            "Kusum      60000.0\n",
            "Kinshuk    70000.0\n",
            "Ankit      80000.0\n",
            "Shruti     90000.0\n",
            "Name: 2017, dtype: float64\n"
          ]
        }
      ]
    },
    {
      "cell_type": "code",
      "source": [
        "print(\"d) Madhu and Ankit in 2017 & 2018:\\n\", Sales.loc[['2017', '2018'], ['Madhu', 'Ankit']])\n"
      ],
      "metadata": {
        "colab": {
          "base_uri": "https://localhost:8080/"
        },
        "id": "h__g2LGphKRo",
        "outputId": "e40ebb13-cfec-467e-ffb5-afccec304763"
      },
      "execution_count": 51,
      "outputs": [
        {
          "output_type": "stream",
          "name": "stdout",
          "text": [
            "d) Madhu and Ankit in 2017 & 2018:\n",
            "          Madhu     Ankit\n",
            "2017   50000.0   80000.0\n",
            "2018  160000.0  340000.0\n"
          ]
        }
      ]
    },
    {
      "cell_type": "code",
      "source": [
        "print(\"e) Shruti in 2016:\\n\", Sales.loc['2016', 'Shruti'])\n"
      ],
      "metadata": {
        "colab": {
          "base_uri": "https://localhost:8080/"
        },
        "id": "P__GdjDehNX3",
        "outputId": "accdecb8-ab88-4358-97d7-d6ec1dc59c1e"
      },
      "execution_count": 52,
      "outputs": [
        {
          "output_type": "stream",
          "name": "stdout",
          "text": [
            "e) Shruti in 2016:\n",
            " 125000.0\n"
          ]
        }
      ]
    },
    {
      "cell_type": "code",
      "source": [
        "Sales['Sumeet'] = [196.2, 37800, 52000, 78438, 38852]\n",
        "print(\"f) Added Sumeet:\\n\", Sales)\n"
      ],
      "metadata": {
        "colab": {
          "base_uri": "https://localhost:8080/"
        },
        "id": "qYtMFDVkhQS6",
        "outputId": "bbc1d658-712b-4bff-ea74-47a3db471b52"
      },
      "execution_count": 53,
      "outputs": [
        {
          "output_type": "stream",
          "name": "stdout",
          "text": [
            "f) Added Sumeet:\n",
            "          Madhu     Kusum   Kinshuk     Ankit    Shruti   Sumeet\n",
            "2014     100.5     150.8     200.9   30000.0   40000.0    196.2\n",
            "2015   12000.0   18000.0   22000.0   30000.0   45000.0  37800.0\n",
            "2016   20000.0   50000.0   70000.0  100000.0  125000.0  52000.0\n",
            "2017   50000.0   60000.0   70000.0   80000.0   90000.0  78438.0\n",
            "2018  160000.0  110000.0  500000.0  340000.0  900000.0  38852.0\n"
          ]
        }
      ]
    },
    {
      "cell_type": "code",
      "source": [
        "Sales = Sales.drop(index='2014')\n",
        "print(\"g) Deleted 2014:\\n\", Sales)\n"
      ],
      "metadata": {
        "colab": {
          "base_uri": "https://localhost:8080/"
        },
        "id": "o8Qc5cTDhQmc",
        "outputId": "02524567-45bb-4ea4-b312-0a6bc84b5ab3"
      },
      "execution_count": 54,
      "outputs": [
        {
          "output_type": "stream",
          "name": "stdout",
          "text": [
            "g) Deleted 2014:\n",
            "          Madhu     Kusum   Kinshuk     Ankit    Shruti   Sumeet\n",
            "2015   12000.0   18000.0   22000.0   30000.0   45000.0  37800.0\n",
            "2016   20000.0   50000.0   70000.0  100000.0  125000.0  52000.0\n",
            "2017   50000.0   60000.0   70000.0   80000.0   90000.0  78438.0\n",
            "2018  160000.0  110000.0  500000.0  340000.0  900000.0  38852.0\n"
          ]
        }
      ]
    },
    {
      "cell_type": "code",
      "source": [
        "Sales = Sales.drop(columns='Kinshuk')\n",
        "print(\"h) Deleted Kinshuk:\\n\", Sales)\n"
      ],
      "metadata": {
        "colab": {
          "base_uri": "https://localhost:8080/"
        },
        "id": "fPy6Vhn7hQsv",
        "outputId": "00c95cfa-c29b-480f-e235-d3969fe0db25"
      },
      "execution_count": 55,
      "outputs": [
        {
          "output_type": "stream",
          "name": "stdout",
          "text": [
            "h) Deleted Kinshuk:\n",
            "          Madhu     Kusum     Ankit    Shruti   Sumeet\n",
            "2015   12000.0   18000.0   30000.0   45000.0  37800.0\n",
            "2016   20000.0   50000.0  100000.0  125000.0  52000.0\n",
            "2017   50000.0   60000.0   80000.0   90000.0  78438.0\n",
            "2018  160000.0  110000.0  340000.0  900000.0  38852.0\n"
          ]
        }
      ]
    },
    {
      "cell_type": "code",
      "source": [
        "Sales = Sales.rename(columns={'Ankit': 'Vivaan', 'Madhu': 'Shailesh'})\n",
        "print(\"i) Renamed Ankit & Madhu:\\n\", Sales)\n"
      ],
      "metadata": {
        "colab": {
          "base_uri": "https://localhost:8080/"
        },
        "id": "EzgShQDmhj58",
        "outputId": "c99854df-6a95-4840-d795-9d652ec50cb3"
      },
      "execution_count": 56,
      "outputs": [
        {
          "output_type": "stream",
          "name": "stdout",
          "text": [
            "i) Renamed Ankit & Madhu:\n",
            "       Shailesh     Kusum    Vivaan    Shruti   Sumeet\n",
            "2015   12000.0   18000.0   30000.0   45000.0  37800.0\n",
            "2016   20000.0   50000.0  100000.0  125000.0  52000.0\n",
            "2017   50000.0   60000.0   80000.0   90000.0  78438.0\n",
            "2018  160000.0  110000.0  340000.0  900000.0  38852.0\n"
          ]
        }
      ]
    },
    {
      "cell_type": "code",
      "source": [
        "Sales.at['2018', 'Shailesh'] = 100000\n",
        "print(\"j) Updated Shailesh 2018 sale:\\n\", Sales)\n"
      ],
      "metadata": {
        "colab": {
          "base_uri": "https://localhost:8080/"
        },
        "id": "x13V6-inhml-",
        "outputId": "67a3ffb6-39fe-406d-ed6e-eba44fdc3364"
      },
      "execution_count": 57,
      "outputs": [
        {
          "output_type": "stream",
          "name": "stdout",
          "text": [
            "j) Updated Shailesh 2018 sale:\n",
            "       Shailesh     Kusum    Vivaan    Shruti   Sumeet\n",
            "2015   12000.0   18000.0   30000.0   45000.0  37800.0\n",
            "2016   20000.0   50000.0  100000.0  125000.0  52000.0\n",
            "2017   50000.0   60000.0   80000.0   90000.0  78438.0\n",
            "2018  100000.0  110000.0  340000.0  900000.0  38852.0\n"
          ]
        }
      ]
    },
    {
      "cell_type": "code",
      "source": [
        "Sales.to_csv('SalesFigures.csv', index=False, header=False)\n",
        "print(\"k) Written to SalesFigures.csv without labels\")\n"
      ],
      "metadata": {
        "colab": {
          "base_uri": "https://localhost:8080/"
        },
        "id": "SGidahIahp6r",
        "outputId": "89881369-06dd-4a11-c9b5-a131ed87d994"
      },
      "execution_count": 58,
      "outputs": [
        {
          "output_type": "stream",
          "name": "stdout",
          "text": [
            "k) Written to SalesFigures.csv without labels\n"
          ]
        }
      ]
    },
    {
      "cell_type": "code",
      "source": [
        "SalesRetrieved = pd.read_csv('SalesFigures.csv', header=None)\n",
        "SalesRetrieved.index = Sales.index\n",
        "SalesRetrieved.columns = Sales.columns\n",
        "print(\"l) SalesRetrieved with labels:\\n\", SalesRetrieved)\n"
      ],
      "metadata": {
        "colab": {
          "base_uri": "https://localhost:8080/"
        },
        "id": "XV_dQIRQhvbO",
        "outputId": "491b1b9a-e36e-4246-f40f-2fc127b97216"
      },
      "execution_count": 59,
      "outputs": [
        {
          "output_type": "stream",
          "name": "stdout",
          "text": [
            "l) SalesRetrieved with labels:\n",
            "       Shailesh     Kusum    Vivaan    Shruti   Sumeet\n",
            "2015   12000.0   18000.0   30000.0   45000.0  37800.0\n",
            "2016   20000.0   50000.0  100000.0  125000.0  52000.0\n",
            "2017   50000.0   60000.0   80000.0   90000.0  78438.0\n",
            "2018  100000.0  110000.0  340000.0  900000.0  38852.0\n"
          ]
        }
      ]
    },
    {
      "cell_type": "code",
      "source": [
        "from google.colab import drive\n",
        "drive.mount('/content/drive')"
      ],
      "metadata": {
        "id": "UYG_jRQoiE6Q"
      },
      "execution_count": null,
      "outputs": []
    }
  ]
}